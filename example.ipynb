{
 "cells": [
  {
   "cell_type": "code",
   "execution_count": null,
   "metadata": {},
   "outputs": [],
   "source": [
    "from sklearn.datasets import make_regression\n",
    "from sklearn.metrics import mean_squared_error\n",
    "\n",
    "from sklearn.model_selection import train_test_split\n",
    "from src.regressor import SpaceBoostingRegressor\n",
    "from sklearn.preprocessing import StandardScaler\n",
    "\n",
    "import numpy as np\n",
    "import lightgbm as lgb"
   ]
  },
  {
   "cell_type": "code",
   "execution_count": 14,
   "metadata": {},
   "outputs": [],
   "source": [
    "# Create the dataset using make_regression\n",
    "np.random.seed(42)\n",
    "X, y = make_regression(n_samples=20000, n_features=20, n_informative=20, noise=10)\n",
    "\n",
    "# Add outliers to make the problem more challenging\n",
    "n_outliers = 50\n",
    "outliers_X = np.random.uniform(low=-10, high=10, size=(n_outliers, X.shape[1]))\n",
    "outliers_y = np.random.uniform(low=-100, high=100, size=n_outliers)\n",
    "X = np.vstack([X, outliers_X])\n",
    "y = np.hstack([y, outliers_y])\n",
    "\n",
    "# Add non-linear, discrete effects to the target variable\n",
    "y += np.where(X[:, 0] > 1, 20, -10)  # If the 0th feature is greater than 1, add 20 to y, otherwise -10\n",
    "y += np.sin(X[:, 1]) * 5  # Add a non-linear effect based on the sine of the 1st feature\n",
    "y += np.log(np.abs(X[:, 2]) + 1) * 3  # Add a non-linear effect based on the logarithm of the 2nd feature\n",
    "y += np.where((X[:, 3] > 0.2) & (X[:, 4] < 0.4), 15, -7)  # Conditional effect based on the 3rd and 4th features\n",
    "y += np.power(X[:, 5], 2) * 0.5  # Add a quadratic effect based on the 5th feature\n",
    "y += np.random.choice([1, -1], size=y.shape) * (X[:, 6] > 0).astype(int) * 12  # Random discrete effect based on the 6th feature\n",
    "\n",
    "# Split the dataset into training and testing sets\n",
    "X_train, X_test, y_train, y_test = train_test_split(X, y, random_state=42)\n",
    "\n",
    "# Standardize the features using StandardScaler\n",
    "scaler = StandardScaler()\n",
    "X_train = scaler.fit_transform(X_train)\n",
    "X_test = scaler.transform(X_test)"
   ]
  },
  {
   "cell_type": "code",
   "execution_count": 22,
   "metadata": {},
   "outputs": [
    {
     "name": "stdout",
     "output_type": "stream",
     "text": [
      "MSE: 5880.94\n",
      "MSE: 1951.61\n"
     ]
    }
   ],
   "source": [
    "tree = lgb.LGBMRegressor(verbose = -1, random_state=42)\n",
    "tree.fit(X_train, y_train)\n",
    "\n",
    "predictions = tree.predict(X_test)\n",
    "mse = mean_squared_error(y_test, predictions)\n",
    "print(f\"MSE: {mse:.2f}\")\n",
    "\n",
    "predictions = tree.predict(X_train)\n",
    "mse = mean_squared_error(y_train, predictions)\n",
    "print(f\"MSE: {mse:.2f}\")"
   ]
  },
  {
   "cell_type": "code",
   "execution_count": 23,
   "metadata": {},
   "outputs": [
    {
     "name": "stdout",
     "output_type": "stream",
     "text": [
      "MSE: 997.2054348262876\n",
      "MSE: 168.73180086560603\n"
     ]
    }
   ],
   "source": [
    "tree = SpaceBoostingRegressor(random_state=42)\n",
    "tree.fit(X_train, y_train)\n",
    "\n",
    "predictions = tree.predict(X_test)\n",
    "mse = mean_squared_error(y_test, predictions)\n",
    "print(f\"MSE: {mse}\")\n",
    "\n",
    "predictions = tree.predict(X_train)\n",
    "mse = mean_squared_error(y_train, predictions)\n",
    "print(f\"MSE: {mse}\")\n"
   ]
  }
 ],
 "metadata": {
  "kernelspec": {
   "display_name": "Python 3",
   "language": "python",
   "name": "python3"
  },
  "language_info": {
   "codemirror_mode": {
    "name": "ipython",
    "version": 3
   },
   "file_extension": ".py",
   "mimetype": "text/x-python",
   "name": "python",
   "nbconvert_exporter": "python",
   "pygments_lexer": "ipython3",
   "version": "3.11.9"
  }
 },
 "nbformat": 4,
 "nbformat_minor": 2
}
