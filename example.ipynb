{
 "cells": [
  {
   "cell_type": "code",
   "execution_count": 1,
   "metadata": {},
   "outputs": [],
   "source": [
    "from sklearn.datasets import make_regression, load_diabetes, fetch_california_housing\n",
    "from sklearn.metrics import mean_squared_error\n",
    "\n",
    "from sklearn.model_selection import train_test_split\n",
    "from sklearn.tree import DecisionTreeRegressor\n",
    "from spacetree import GradientBoostingDirectionalTree\n",
    "from sklearn.preprocessing import StandardScaler"
   ]
  },
  {
   "cell_type": "code",
   "execution_count": 17,
   "metadata": {},
   "outputs": [],
   "source": [
    "from sklearn.datasets import make_regression\n",
    "import numpy as np\n",
    "\n",
    "# Orijinal veri setini oluştur\n",
    "X, y = make_regression(n_samples=10000, n_features=20, n_informative=15, noise=10)\n",
    "\n",
    "# Fazla özellik ekleyerek karmaşıklık artır\n",
    "extra_features = np.random.random(size=(10000, 20))  # Rastgele anlamsız özellikler\n",
    "X = np.hstack([X, extra_features])\n",
    "\n",
    "# Aykırı değer ekleyerek zorluğu artır\n",
    "n_outliers = 50\n",
    "outliers_X = np.random.uniform(low=-10, high=10, size=(n_outliers, X.shape[1]))\n",
    "outliers_y = np.random.uniform(low=-100, high=100, size=n_outliers)\n",
    "X = np.vstack([X, outliers_X])\n",
    "y = np.hstack([y, outliers_y])\n",
    "\n",
    "# Özellikler arasında bağımlılık yarat\n",
    "correlated_feature = X[:, 0] * 0.5 + np.random.normal(scale=0.1, size=X.shape[0])\n",
    "X = np.hstack([X, correlated_feature.reshape(-1, 1)])\n",
    "\n",
    "\n",
    "X_train, X_test, y_train, y_test = train_test_split(X, y)\n",
    "\n",
    "scaler = StandardScaler()\n",
    "\n",
    "X_train = scaler.fit_transform(X_train)\n",
    "X_test = scaler.transform(X_test)"
   ]
  },
  {
   "cell_type": "code",
   "execution_count": 15,
   "metadata": {},
   "outputs": [],
   "source": [
    "from sklearn.datasets import make_regression\n",
    "import numpy as np\n",
    "\n",
    "# Orijinal veri setini oluştur\n",
    "X, y = fetch_california_housing(return_X_y=True)\n",
    "\n",
    "\n",
    "X_train, X_test, y_train, y_test = train_test_split(X, y)\n",
    "\n",
    "scaler = StandardScaler()\n",
    "\n",
    "X_train = scaler.fit_transform(X_train)\n",
    "X_test = scaler.transform(X_test)"
   ]
  },
  {
   "cell_type": "code",
   "execution_count": 6,
   "metadata": {},
   "outputs": [
    {
     "name": "stdout",
     "output_type": "stream",
     "text": [
      "MSE: 3168.85\n",
      "MSE: 403.26\n"
     ]
    }
   ],
   "source": [
    "# Modeli oluştur ve eğit\n",
    "import lightgbm as lgb\n",
    "\n",
    "tree = lgb.LGBMRegressor(n_estimators= 200, verbose = -1, max_depth=10)\n",
    "tree.fit(X_train, y_train)\n",
    "\n",
    "# Tahmin yap\n",
    "predictions = tree.predict(X_test)\n",
    "mse = mean_squared_error(y_test, predictions)\n",
    "print(f\"MSE: {mse:.2f}\")\n",
    "\n",
    "predictions = tree.predict(X_train)\n",
    "mse = mean_squared_error(y_train, predictions)\n",
    "print(f\"MSE: {mse:.2f}\")"
   ]
  },
  {
   "cell_type": "code",
   "execution_count": 22,
   "metadata": {},
   "outputs": [
    {
     "name": "stdout",
     "output_type": "stream",
     "text": [
      "MSE: 1511.6246837731962\n",
      "MSE: 94.59868589506394\n"
     ]
    }
   ],
   "source": [
    "# Model oluştur ve eğit\n",
    "tree = GradientBoostingDirectionalTree(n_estimators=100, learning_rate=0.1, max_depth=6, n_splits=255, min_samples_split=2, min_samples_leaf=1, alpha=3, random_state=32)\n",
    "tree.fit(X_train, y_train)\n",
    "\n",
    "# Tahmin yap\n",
    "predictions = tree.predict(X_test)\n",
    "mse = mean_squared_error(y_test, predictions)\n",
    "print(f\"MSE: {mse}\")\n",
    "\n",
    "predictions = tree.predict(X_train)\n",
    "mse = mean_squared_error(y_train, predictions)\n",
    "print(f\"MSE: {mse}\")\n"
   ]
  }
 ],
 "metadata": {
  "kernelspec": {
   "display_name": "Python 3",
   "language": "python",
   "name": "python3"
  },
  "language_info": {
   "codemirror_mode": {
    "name": "ipython",
    "version": 3
   },
   "file_extension": ".py",
   "mimetype": "text/x-python",
   "name": "python",
   "nbconvert_exporter": "python",
   "pygments_lexer": "ipython3",
   "version": "3.11.9"
  }
 },
 "nbformat": 4,
 "nbformat_minor": 2
}
